{
 "cells": [
  {
   "cell_type": "code",
   "execution_count": 14,
   "id": "ae03b011",
   "metadata": {},
   "outputs": [
    {
     "name": "stdout",
     "output_type": "stream",
     "text": [
      "[4. 3. 5.]\n",
      "       2\n",
      "0.375 x - 2 x + 5.625\n"
     ]
    },
    {
     "data": {
      "text/plain": [
       "1"
      ]
     },
     "execution_count": 14,
     "metadata": {},
     "output_type": "execute_result"
    }
   ],
   "source": [
    "import numpy as np\n",
    "from sklearn.linear_model import LinearRegression\n",
    "from sklearn.preprocessing import PolynomialFeatures,StandardScaler\n",
    "from sklearn.pipeline import Pipeline\n",
    "\"\"\"\n",
    "X = [[1.0, 2.0],\n",
    "    [3.0, 4.0],\n",
    "    [5.0, 6.0]]\n",
    "\"\"\"\n",
    "X = np.array([1.0,3.0,5.0])\n",
    "Y =np.array([4.0,3.0,5.0])\n",
    "#poly = PolynomialFeatures(include_bias=False)\n",
    "#X1= poly.fit_transform(X)\n",
    "p=np.polyfit(X,Y,2)\n",
    "p1=np.poly1d(p)\n",
    "print(np.polyval(p,X))\n",
    "print(p1)\n",
    "X.ndim"
   ]
  },
  {
   "cell_type": "code",
   "execution_count": 23,
   "id": "d55aa84e",
   "metadata": {},
   "outputs": [
    {
     "name": "stdout",
     "output_type": "stream",
     "text": [
      "[4. 3. 5.]\n"
     ]
    },
    {
     "data": {
      "text/plain": [
       "array([[ 1.,  1.],\n",
       "       [ 3.,  9.],\n",
       "       [ 5., 25.]])"
      ]
     },
     "execution_count": 23,
     "metadata": {},
     "output_type": "execute_result"
    }
   ],
   "source": [
    "poly = PolynomialFeatures(include_bias=False,degree=2)\n",
    "X1= poly.fit_transform(X)\n",
    "rg=LinearRegression()\n",
    "rg.fit(X1,Y)\n",
    "rgy= rg.predict(X1)\n",
    "print(rgy)\n",
    "X1"
   ]
  },
  {
   "cell_type": "code",
   "execution_count": 21,
   "id": "ae4b482a",
   "metadata": {},
   "outputs": [
    {
     "data": {
      "text/plain": [
       "array([-2.   ,  0.375])"
      ]
     },
     "execution_count": 21,
     "metadata": {},
     "output_type": "execute_result"
    }
   ],
   "source": [
    "rg.coef_"
   ]
  },
  {
   "cell_type": "code",
   "execution_count": 22,
   "id": "8753fb87",
   "metadata": {},
   "outputs": [
    {
     "data": {
      "text/plain": [
       "5.624999999999998"
      ]
     },
     "execution_count": 22,
     "metadata": {},
     "output_type": "execute_result"
    }
   ],
   "source": [
    "rg.intercept_"
   ]
  },
  {
   "cell_type": "code",
   "execution_count": null,
   "id": "6d29eadf",
   "metadata": {},
   "outputs": [],
   "source": []
  }
 ],
 "metadata": {
  "kernelspec": {
   "display_name": "Python 3 (ipykernel)",
   "language": "python",
   "name": "python3"
  },
  "language_info": {
   "codemirror_mode": {
    "name": "ipython",
    "version": 3
   },
   "file_extension": ".py",
   "mimetype": "text/x-python",
   "name": "python",
   "nbconvert_exporter": "python",
   "pygments_lexer": "ipython3",
   "version": "3.8.5"
  }
 },
 "nbformat": 4,
 "nbformat_minor": 5
}
